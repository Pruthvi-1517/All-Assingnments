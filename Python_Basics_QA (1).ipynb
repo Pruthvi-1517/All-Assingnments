{
 "cells": [
  {
   "cell_type": "code",
   "execution_count": 1,
   "id": "ff337548",
   "metadata": {},
   "outputs": [
    {
     "data": {
      "text/plain": [
       "'Python is a high-level, interpreted programming language known for its readability and simplicity.\\nIt is popular because it supports multiple programming paradigms, has a vast ecosystem of libraries, \\nand is widely used in web development, data science, AI, and more.'"
      ]
     },
     "execution_count": 1,
     "metadata": {},
     "output_type": "execute_result"
    }
   ],
   "source": [
    "# What is Python, and why is it popular?\n",
    "\"\"\"Python is a high-level, interpreted programming language known for its readability and simplicity.\n",
    "It is popular because it supports multiple programming paradigms, has a vast ecosystem of libraries, \n",
    "and is widely used in web development, data science, AI, and more.\"\"\""
   ]
  },
  {
   "cell_type": "code",
   "execution_count": 2,
   "id": "3fb9af54",
   "metadata": {},
   "outputs": [
    {
     "data": {
      "text/plain": [
       "'An interpreter in Python is a program that executes Python code line by line instead of compiling it into machine code first.\\nThe default interpreter for Python is CPython.'"
      ]
     },
     "execution_count": 2,
     "metadata": {},
     "output_type": "execute_result"
    }
   ],
   "source": [
    "# What is an interpreter in Python?\n",
    "\"\"\"An interpreter in Python is a program that executes Python code line by line instead of compiling it into machine code first.\n",
    "The default interpreter for Python is CPython.\"\"\""
   ]
  },
  {
   "cell_type": "code",
   "execution_count": 3,
   "id": "e23d525e",
   "metadata": {},
   "outputs": [
    {
     "data": {
      "text/plain": [
       "\"Pre-defined keywords in Python are reserved words that have special meanings and cannot be used as identifiers.\\nExamples include 'if', 'else', 'for', 'while', 'def', 'return', etc.\""
      ]
     },
     "execution_count": 3,
     "metadata": {},
     "output_type": "execute_result"
    }
   ],
   "source": [
    "# What are pre-defined keywords in Python?\n",
    "\"\"\"Pre-defined keywords in Python are reserved words that have special meanings and cannot be used as identifiers.\n",
    "Examples include 'if', 'else', 'for', 'while', 'def', 'return', etc.\"\"\""
   ]
  },
  {
   "cell_type": "code",
   "execution_count": 4,
   "id": "9d3a98a7",
   "metadata": {},
   "outputs": [
    {
     "data": {
      "text/plain": [
       "'No, Python keywords cannot be used as variable names because they have predefined meanings in the language.'"
      ]
     },
     "execution_count": 4,
     "metadata": {},
     "output_type": "execute_result"
    }
   ],
   "source": [
    "# Can keywords be used as variable names?\n",
    "\"\"\"No, Python keywords cannot be used as variable names because they have predefined meanings in the language.\"\"\""
   ]
  },
  {
   "cell_type": "code",
   "execution_count": 5,
   "id": "0c8cc62a",
   "metadata": {},
   "outputs": [
    {
     "data": {
      "text/plain": [
       "'Mutability in Python refers to whether an object can be modified after it is created. \\nMutable objects (e.g., lists, dictionaries) can be changed, whereas immutable objects (e.g., tuples, strings) cannot.'"
      ]
     },
     "execution_count": 5,
     "metadata": {},
     "output_type": "execute_result"
    }
   ],
   "source": [
    "# What is mutability in Python?\n",
    "\"\"\"Mutability in Python refers to whether an object can be modified after it is created. \n",
    "Mutable objects (e.g., lists, dictionaries) can be changed, whereas immutable objects (e.g., tuples, strings) cannot.\"\"\""
   ]
  },
  {
   "cell_type": "code",
   "execution_count": 6,
   "id": "a1c0d9a7",
   "metadata": {},
   "outputs": [
    {
     "data": {
      "text/plain": [
       "'Lists are mutable because they allow modification (adding, removing, or changing elements).\\nTuples are immutable to ensure data integrity and efficiency since their contents cannot be changed after creation.'"
      ]
     },
     "execution_count": 6,
     "metadata": {},
     "output_type": "execute_result"
    }
   ],
   "source": [
    "# Why are lists mutable, but tuples are immutable?\n",
    "\"\"\"Lists are mutable because they allow modification (adding, removing, or changing elements).\n",
    "Tuples are immutable to ensure data integrity and efficiency since their contents cannot be changed after creation.\"\"\""
   ]
  },
  {
   "cell_type": "code",
   "execution_count": 7,
   "id": "80b4b201",
   "metadata": {},
   "outputs": [
    {
     "data": {
      "text/plain": [
       "\"'==' checks if two values are equal, whereas 'is' checks if two variables point to the same object in memory.\""
      ]
     },
     "execution_count": 7,
     "metadata": {},
     "output_type": "execute_result"
    }
   ],
   "source": [
    "# What is the difference between '==' and 'is' operators in Python?\n",
    "\"\"\"'==' checks if two values are equal, whereas 'is' checks if two variables point to the same object in memory.\"\"\""
   ]
  },
  {
   "cell_type": "code",
   "execution_count": 8,
   "id": "58eb62bb",
   "metadata": {},
   "outputs": [
    {
     "data": {
      "text/plain": [
       "\"Logical operators in Python are used to perform logical\\noperations: 'and' (both conditions must be true), 'or' (at least one condition must be true), and 'not' (negates a condition).\""
      ]
     },
     "execution_count": 8,
     "metadata": {},
     "output_type": "execute_result"
    }
   ],
   "source": [
    "# What are logical operators in Python?\n",
    "\"\"\"Logical operators in Python are used to perform logical\n",
    "operations: 'and' (both conditions must be true), 'or' (at least one condition must be true), and 'not' (negates a condition).\"\"\""
   ]
  },
  {
   "cell_type": "code",
   "execution_count": 9,
   "id": "4a02dc30",
   "metadata": {},
   "outputs": [
    {
     "data": {
      "text/plain": [
       "'Type casting is converting a variable from one data type to another,\\nsuch as converting a string to an integer using int().'"
      ]
     },
     "execution_count": 9,
     "metadata": {},
     "output_type": "execute_result"
    }
   ],
   "source": [
    "# What is type casting in Python?\n",
    "\"\"\"Type casting is converting a variable from one data type to another,\n",
    "such as converting a string to an integer using int().\"\"\""
   ]
  },
  {
   "cell_type": "code",
   "execution_count": 10,
   "id": "72e2310e",
   "metadata": {},
   "outputs": [
    {
     "data": {
      "text/plain": [
       "'Implicit type casting is automatically done by Python (e.g., int to float),\\nwhereas explicit type casting is manually performed by the programmer using functions like int(), float(), or str().'"
      ]
     },
     "execution_count": 10,
     "metadata": {},
     "output_type": "execute_result"
    }
   ],
   "source": [
    "# What is the difference between implicit and explicit type casting?\n",
    "\"\"\"Implicit type casting is automatically done by Python (e.g., int to float),\n",
    "whereas explicit type casting is manually performed by the programmer using functions like int(), float(), or str().\"\"\""
   ]
  },
  {
   "cell_type": "code",
   "execution_count": 11,
   "id": "fd1c5a47",
   "metadata": {},
   "outputs": [
    {
     "data": {
      "text/plain": [
       "\"Conditional statements allow a program to make decisions based on conditions using 'if', 'elif', and 'else' statements.\""
      ]
     },
     "execution_count": 11,
     "metadata": {},
     "output_type": "execute_result"
    }
   ],
   "source": [
    "# What is the purpose of conditional statements in Python?\n",
    "\"\"\"Conditional statements allow a program to make decisions based on conditions using 'if', 'elif', and 'else' statements.\"\"\""
   ]
  },
  {
   "cell_type": "code",
   "execution_count": 12,
   "id": "5db6cee9",
   "metadata": {},
   "outputs": [
    {
     "data": {
      "text/plain": [
       "\"An 'if' statement evaluates a condition. If the condition is true, the indented block of code is executed.\""
      ]
     },
     "execution_count": 12,
     "metadata": {},
     "output_type": "execute_result"
    }
   ],
   "source": [
    "# How does the 'if' statement work?\n",
    "\"\"\"An 'if' statement evaluates a condition. If the condition is true, the indented block of code is executed.\"\"\""
   ]
  },
  {
   "cell_type": "code",
   "execution_count": 13,
   "id": "c467ea61",
   "metadata": {},
   "outputs": [
    {
     "data": {
      "text/plain": [
       "\"'for' loops iterate over sequences like lists and ranges, while 'while' loops execute as long as a condition remains true.\""
      ]
     },
     "execution_count": 13,
     "metadata": {},
     "output_type": "execute_result"
    }
   ],
   "source": [
    "# What is the difference between 'for' and 'while' loops?\n",
    "\"\"\"'for' loops iterate over sequences like lists and ranges, while 'while' loops execute as long as a condition remains true.\"\"\""
   ]
  },
  {
   "cell_type": "code",
   "execution_count": 14,
   "id": "b74a32a5",
   "metadata": {},
   "outputs": [
    {
     "data": {
      "text/plain": [
       "\"A 'while' loop is better when the number of iterations is unknown beforehand, such as waiting for user input to match a condition.\""
      ]
     },
     "execution_count": 14,
     "metadata": {},
     "output_type": "execute_result"
    }
   ],
   "source": [
    "# Describe a scenario where a 'while' loop is more suitable than a 'for' loop.\n",
    "\"\"\"A 'while' loop is better when the number of iterations is unknown beforehand, such as waiting for user input to match a condition.\"\"\""
   ]
  },
  {
   "cell_type": "raw",
   "id": "ef8d04ae-a8a7-455b-8e12-d4931585c0b2",
   "metadata": {},
   "source": [
    "###PRACTICLE QUESTIONS"
   ]
  },
  {
   "cell_type": "code",
   "execution_count": 15,
   "id": "880f0891",
   "metadata": {},
   "outputs": [
    {
     "name": "stdout",
     "output_type": "stream",
     "text": [
      "Hello, World!\n"
     ]
    }
   ],
   "source": [
    "# Write a Python program to print 'Hello, World!'\n",
    "print('Hello, World!')"
   ]
  },
  {
   "cell_type": "code",
   "execution_count": 16,
   "id": "fa1080d9",
   "metadata": {},
   "outputs": [
    {
     "name": "stdout",
     "output_type": "stream",
     "text": [
      "My name is Shridhar and I am 25 years old.\n"
     ]
    }
   ],
   "source": [
    "# Write a Python program that displays your name and age.\n",
    "name = 'Shridhar'\n",
    "age = 25\n",
    "print(f'My name is {name} and I am {age} years old.')"
   ]
  },
  {
   "cell_type": "code",
   "execution_count": 17,
   "id": "68d2460c",
   "metadata": {},
   "outputs": [
    {
     "name": "stdout",
     "output_type": "stream",
     "text": [
      "['False', 'None', 'True', 'and', 'as', 'assert', 'async', 'await', 'break', 'class', 'continue', 'def', 'del', 'elif', 'else', 'except', 'finally', 'for', 'from', 'global', 'if', 'import', 'in', 'is', 'lambda', 'nonlocal', 'not', 'or', 'pass', 'raise', 'return', 'try', 'while', 'with', 'yield']\n"
     ]
    }
   ],
   "source": [
    "# Write code to print all pre-defined keywords in Python using the keyword library.\n",
    "import keyword\n",
    "print(keyword.kwlist)"
   ]
  },
  {
   "cell_type": "code",
   "execution_count": 18,
   "id": "c21dee10",
   "metadata": {},
   "outputs": [
    {
     "name": "stdin",
     "output_type": "stream",
     "text": [
      "Enter a word:  kernal\n"
     ]
    },
    {
     "name": "stdout",
     "output_type": "stream",
     "text": [
      "Is a keyword: False\n"
     ]
    }
   ],
   "source": [
    "# Write a program that checks if a given word is a Python keyword.\n",
    "import keyword\n",
    "word = input('Enter a word: ')\n",
    "print(f'Is a keyword: {keyword.iskeyword(word)}')"
   ]
  },
  {
   "cell_type": "code",
   "execution_count": 19,
   "id": "189a6fa6",
   "metadata": {},
   "outputs": [
    {
     "name": "stdout",
     "output_type": "stream",
     "text": [
      "Tuples are immutable!\n"
     ]
    }
   ],
   "source": [
    "# Create a list and tuple in Python, and demonstrate how modifying them differs.\n",
    "my_list = [1, 2, 3]\n",
    "my_tuple = (1, 2, 3)\n",
    "my_list[0] = 10  # Works\n",
    "try:\n",
    "    my_tuple[0] = 10  # Fails\n",
    "except TypeError:\n",
    "    print('Tuples are immutable!')"
   ]
  },
  {
   "cell_type": "code",
   "execution_count": 20,
   "id": "a7ddf8f2",
   "metadata": {},
   "outputs": [
    {
     "name": "stdout",
     "output_type": "stream",
     "text": [
      "[1, 2, 3, 100] 10\n"
     ]
    }
   ],
   "source": [
    "# Write a function to demonstrate mutable and immutable arguments.\n",
    "def modify(data):\n",
    "    if isinstance(data, list):\n",
    "        data.append(100)  # Mutates the list\n",
    "    else:\n",
    "        data = 100  # Does not affect original data\n",
    "nums = [1, 2, 3]\n",
    "n = 10\n",
    "modify(nums)\n",
    "modify(n)\n",
    "print(nums, n)"
   ]
  },
  {
   "cell_type": "code",
   "execution_count": 21,
   "id": "9aae8b64",
   "metadata": {},
   "outputs": [
    {
     "name": "stdin",
     "output_type": "stream",
     "text": [
      "Enter first number:  25\n",
      "Enter second number:  35\n"
     ]
    },
    {
     "name": "stdout",
     "output_type": "stream",
     "text": [
      "Sum: 60, Difference: -10, Product: 875, Quotient: 0.7142857142857143\n"
     ]
    }
   ],
   "source": [
    "# Write a program that performs arithmetic operations on two user-input numbers.\n",
    "a = int(input('Enter first number: '))\n",
    "b = int(input('Enter second number: '))\n",
    "print(f'Sum: {a + b}, Difference: {a - b}, Product: {a * b}, Quotient: {a / b}')"
   ]
  },
  {
   "cell_type": "code",
   "execution_count": 22,
   "id": "3dd00fbd",
   "metadata": {},
   "outputs": [
    {
     "name": "stdout",
     "output_type": "stream",
     "text": [
      "False True False\n"
     ]
    }
   ],
   "source": [
    "# Write a program to demonstrate logical operators.\n",
    "x, y = True, False\n",
    "print(x and y, x or y, not x)"
   ]
  },
  {
   "cell_type": "code",
   "execution_count": null,
   "id": "91c40f28",
   "metadata": {},
   "outputs": [],
   "source": [
    "# Write a Python program to convert user input from string to integer, float, and boolean types.\n",
    "user_input = input('Enter a value: ')\n",
    "print(int(user_input), float(user_input), bool(user_input))"
   ]
  },
  {
   "cell_type": "code",
   "execution_count": null,
   "id": "fff6dd45",
   "metadata": {},
   "outputs": [],
   "source": [
    "# Write code to demonstrate type casting with list elements.\n",
    "numbers = ['1', '2', '3']\n",
    "converted_numbers = list(map(int, numbers))\n",
    "print(converted_numbers)"
   ]
  },
  {
   "cell_type": "code",
   "execution_count": null,
   "id": "637299ab",
   "metadata": {},
   "outputs": [],
   "source": [
    "# Write a program that checks if a number is positive, negative, or zero.\n",
    "num = int(input('Enter a number: '))\n",
    "if num > 0:\n",
    "    print('Positive')\n",
    "elif num < 0:\n",
    "    print('Negative')\n",
    "else:\n",
    "    print('Zero')"
   ]
  },
  {
   "cell_type": "code",
   "execution_count": null,
   "id": "734dffa7",
   "metadata": {},
   "outputs": [],
   "source": [
    "# Write a 'for' loop to print numbers from 1 to 10.\n",
    "for i in range(1, 11):\n",
    "    print(i)"
   ]
  },
  {
   "cell_type": "code",
   "execution_count": null,
   "id": "84d9beef",
   "metadata": {},
   "outputs": [],
   "source": [
    "# Write a Python program to find the sum of all even numbers between 1 and 50.\n",
    "print(sum(i for i in range(1, 51) if i % 2 == 0))"
   ]
  },
  {
   "cell_type": "code",
   "execution_count": null,
   "id": "adac0e80",
   "metadata": {},
   "outputs": [],
   "source": [
    "# Write a program to reverse a string using a 'while' loop.\n",
    "s = input('Enter a string: ')\n",
    "reversed_s = ''\n",
    "i = len(s) - 1\n",
    "while i >= 0:\n",
    "    reversed_s += s[i]\n",
    "    i -= 1\n",
    "print(reversed_s)"
   ]
  },
  {
   "cell_type": "code",
   "execution_count": null,
   "id": "856c3688",
   "metadata": {},
   "outputs": [],
   "source": [
    "# Write a Python program to calculate the factorial of a number using a 'while' loop.\n",
    "num = int(input('Enter a number: '))\n",
    "fact = 1\n",
    "while num > 1:\n",
    "    fact *= num\n",
    "    num -= 1\n",
    "print(fact)"
   ]
  }
 ],
 "metadata": {
  "kernelspec": {
   "display_name": "Python 3 (ipykernel)",
   "language": "python",
   "name": "python3"
  },
  "language_info": {
   "codemirror_mode": {
    "name": "ipython",
    "version": 3
   },
   "file_extension": ".py",
   "mimetype": "text/x-python",
   "name": "python",
   "nbconvert_exporter": "python",
   "pygments_lexer": "ipython3",
   "version": "3.13.2"
  }
 },
 "nbformat": 4,
 "nbformat_minor": 5
}
