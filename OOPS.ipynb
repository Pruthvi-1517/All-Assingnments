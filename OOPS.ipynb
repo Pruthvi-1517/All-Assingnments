{
 "cells": [
  {
   "cell_type": "markdown",
   "id": "4a9850b7-563a-441b-94b6-edee809f274d",
   "metadata": {},
   "source": [
    "###Theory\n"
   ]
  },
  {
   "cell_type": "markdown",
   "id": "b6fc75a0-08a4-43f1-8b87-b5b84c9b61c1",
   "metadata": {},
   "source": [
    "1. What is Object-Oriented Programming (OOP)?\n",
    "OOP is a programming paradigm that uses objects and classes to structure code. It focuses on data (attributes) and behaviors (methods), and is based on four pillars:\n",
    "\n",
    "Encapsulation\n",
    "\n",
    "Abstraction\n",
    "\n",
    "Inheritance\n",
    "\n",
    "Polymorphism"
   ]
  },
  {
   "cell_type": "markdown",
   "id": "149efdc9-570f-41cd-b3ee-129e590a65ce",
   "metadata": {},
   "source": [
    "2. What is a class in OOP?\n",
    "   \n",
    "A class is a blueprint/template to create objects. It defines attributes (variables) and behaviors (methods) common to all objects of that type.\n",
    "\n"
   ]
  },
  {
   "cell_type": "markdown",
   "id": "725f8d78-f814-40c0-9c85-cbf3b9ab3a3f",
   "metadata": {},
   "source": [
    "3. What is an object in OOP?\n",
    "   \n",
    "An object is an instance of a class. It represents a real-world entity and holds data + behavior."
   ]
  },
  {
   "cell_type": "markdown",
   "id": "4edd87c1-7f72-4f9e-b2de-0c86fe33a196",
   "metadata": {},
   "source": [
    "4. What is the difference between abstraction and encapsulation?\n",
    "   \n",
    "Abstraction: Hides implementation details, shows only essential features.\n",
    "\n",
    "Encapsulation: Hides data using private members, protects object integrity.\n",
    "\n"
   ]
  },
  {
   "cell_type": "markdown",
   "id": "c8c8f832-2921-424a-b0b1-99f063440e6a",
   "metadata": {},
   "source": [
    "5. What are dunder methods in Python?\n",
    "   \n",
    "\"Dunder\" = Double Underscore (__init__, __str__, etc.).\n",
    "They are special methods that give objects special behavior with built-in operations.\n",
    "\n"
   ]
  },
  {
   "cell_type": "markdown",
   "id": "87331db6-b593-4c6c-9a89-b90eaca07fe7",
   "metadata": {},
   "source": [
    "6. Explain the concept of inheritance in OOP.\n",
    "\n",
    "Inheritance allows a class (child) to reuse attributes and methods from another class (parent), promoting code reuse.\n"
   ]
  },
  {
   "cell_type": "markdown",
   "id": "79da047c-4649-4eac-b7fc-b2c97a2c327d",
   "metadata": {},
   "source": [
    "7. What is polymorphism in OOP?\n",
    "   \n",
    "Polymorphism allows the same interface to behave differently depending on the context or object."
   ]
  },
  {
   "cell_type": "markdown",
   "id": "fb507dde-d21f-4435-8662-be88fa5560df",
   "metadata": {},
   "source": [
    "8. How is encapsulation achieved in Python?\n",
    "Using:\n",
    "\n",
    "Private attributes (prefix _ or __)\n",
    "\n",
    "Getter/setter methods to access/modify them\n",
    "\n"
   ]
  },
  {
   "cell_type": "markdown",
   "id": "46b51d59-bc6a-4e5f-b9c2-174798e6c514",
   "metadata": {},
   "source": [
    "9. What is a constructor in Python?\n",
    "    \n",
    "__init__() is a constructor — a special method that runs automatically when an object is created."
   ]
  },
  {
   "cell_type": "markdown",
   "id": "4fdbdc3a-cf5c-4851-a805-d789f30f93c9",
   "metadata": {},
   "source": [
    "10. What are class and static methods in Python?\n",
    "    \n",
    "@classmethod: Uses cls, accesses class variables.\n",
    "\n",
    "@staticmethod: No self or cls, acts like a regular function in a class."
   ]
  },
  {
   "cell_type": "markdown",
   "id": "afb054f3-2138-4258-a499-8479d0212d8e",
   "metadata": {},
   "source": [
    "11. What is method overloading in Python?\n",
    "    \n",
    "Python doesn't support traditional method overloading. We use:\n",
    "\n",
    "Default arguments\n",
    "\n",
    "*args, **kwargs to handle multiple inputs."
   ]
  },
  {
   "cell_type": "markdown",
   "id": "e8be197b-f450-40fa-8790-9e71bf985f83",
   "metadata": {},
   "source": [
    "12. What is method overriding in OOP?\n",
    "    \n",
    "When a child class redefines a parent class method, it’s called method overriding.\n",
    "\n"
   ]
  },
  {
   "cell_type": "markdown",
   "id": "38b49177-5d47-4c87-a17a-1aac92d45994",
   "metadata": {},
   "source": [
    "13. What is a property decorator in Python?\n",
    "\n",
    "@property makes a method act like an attribute (read-only), often used for calculated values.\n",
    "\n",
    "\n",
    "\n",
    "\n",
    "14. Why is polymorphism important in OOP?\n",
    "    \n",
    "It enables:\n",
    "\n",
    "Flexible code\n",
    "\n",
    "Simplified interfaces\n",
    "\n",
    "Reusability\n",
    "\n",
    "\n",
    "\n",
    "\n",
    "\n",
    "15. What is an abstract class in Python?\n",
    "\n",
    "    \n",
    "An abstract class contains one or more abstract methods (defined using abc module).\n",
    "It can’t be instantiated — it provides a base for other classes.\n",
    "\n",
    "\n",
    "\n",
    "\n",
    "\n",
    "16. What are the advantages of OOP?\n",
    "\n",
    "Code reusability\n",
    "\n",
    "Modularity\n",
    "\n",
    "Encapsulation for security\n",
    "\n",
    "Easier debugging and maintenance\n",
    "\n",
    "Real-world modeling\n",
    "\n",
    "\n",
    "\n",
    "\n",
    "\n",
    "17. Difference between class and instance variable?\n",
    "\n",
    "\n",
    "Class variable: Shared across all instances.\n",
    "\n",
    "Instance variable: Unique to each object.\n",
    "\n",
    "\n",
    "\n",
    "\n",
    "\n",
    "18. What is multiple inheritance in Python?\n",
    "\n",
    "When a class inherits from more than one parent class.\n",
    "Python supports this, and uses MRO (Method Resolution Order) to resolve conflicts.\n",
    "\n",
    "\n",
    "\n",
    "\n",
    "\n",
    "\n",
    "19. Purpose of __str__ and __repr__ in Python?\n",
    "\n",
    "__str__: User-friendly string output (used in print()).\n",
    "\n",
    "__repr__: Developer-friendly, unambiguous string (used in debugging).\n",
    "\n",
    "\n",
    "\n",
    "\n",
    "\n",
    "\n",
    "20. Significance of super() in Python?\n",
    "\n",
    "super() is used to call parent class methods — often used in constructors during inheritance.\n",
    "\n",
    "\n",
    "\n",
    "\n",
    "\n",
    "\n",
    "21. Significance of __del__ method?\n",
    "\n",
    "__del__ is the destructor method, called when an object is deleted or goes out of scope.\n",
    "\n",
    "\n",
    "\n",
    "\n",
    "\n",
    "\n",
    "22. Difference between @staticmethod and @classmethod?\n",
    "\n",
    "Static method: No self or cls; can't modify class state.\n",
    "\n",
    "Class method: Uses cls; can modify class-level data.\n",
    "\n",
    "\n",
    "\n",
    "\n",
    "\n",
    "\n",
    "23. How does polymorphism work in Python with inheritance?\n",
    "\n",
    "When multiple child classes override the same parent method, the correct method is chosen at runtime (dynamic dispatch).\n",
    "\n",
    "\n",
    "\n",
    "\n",
    "\n",
    "\n",
    "24. What is method chaining in Python OOP?\n",
    "\n",
    "Calling multiple methods on the same object in a single line — each method returns self.\n",
    "obj.set_name(\"Pruthvi\").set_age(21).greet()\n",
    "\n",
    "\n",
    "\n",
    "\n",
    "\n",
    "25. What is the purpose of __call__ method?\n",
    "\n",
    "Makes an object callable like a function. Example:\n",
    "\n",
    "class Greet:\n",
    "    def __call__(self):\n",
    "        print(\"Hello!\")\n",
    "\n",
    "g = Greet()\n",
    "g()  # calls __call__\n"
   ]
  },
  {
   "cell_type": "code",
   "execution_count": null,
   "id": "854cb888-903c-4456-a509-228691bbd4fa",
   "metadata": {},
   "outputs": [],
   "source": []
  },
  {
   "cell_type": "code",
   "execution_count": null,
   "id": "af536f77-369f-4486-b043-d38dacfb9a19",
   "metadata": {},
   "outputs": [],
   "source": []
  },
  {
   "cell_type": "raw",
   "id": "fbaa3534-28ef-4325-9af1-0c5670b78282",
   "metadata": {},
   "source": [
    "###Practicle"
   ]
  },
  {
   "cell_type": "code",
   "execution_count": 1,
   "id": "83066825-96a9-4089-8d88-feed448ea854",
   "metadata": {},
   "outputs": [
    {
     "name": "stdout",
     "output_type": "stream",
     "text": [
      "Bark!\n"
     ]
    }
   ],
   "source": [
    "\"\"\"1. Create a parent class Animal with a method speak(). Create a child class Dog that overrides the method to print \"Bark!\"\n",
    "\"\"\"\n",
    "\n",
    "class Animal:\n",
    "    def speak(self):\n",
    "        print(\"Animal makes a sound\")\n",
    "\n",
    "class Dog(Animal):\n",
    "    def speak(self):\n",
    "        print(\"Bark!\")\n",
    "\n",
    "d = Dog()\n",
    "d.speak()"
   ]
  },
  {
   "cell_type": "code",
   "execution_count": 2,
   "id": "4b72492f-f4ba-4daa-8e74-2eab408a64cd",
   "metadata": {},
   "outputs": [
    {
     "name": "stdout",
     "output_type": "stream",
     "text": [
      "78.5\n",
      "24\n"
     ]
    }
   ],
   "source": [
    "\"\"\"2. Abstract class Shape with method area(). Implement Circle and Rectangle.\n",
    "\"\"\"\n",
    "from abc import ABC, abstractmethod\n",
    "\n",
    "class Shape(ABC):\n",
    "    @abstractmethod\n",
    "    def area(self):\n",
    "        pass\n",
    "\n",
    "class Circle(Shape):\n",
    "    def __init__(self, radius):\n",
    "        self.radius = radius\n",
    "\n",
    "    def area(self):\n",
    "        return 3.14 * self.radius ** 2\n",
    "\n",
    "class Rectangle(Shape):\n",
    "    def __init__(self, length, width):\n",
    "        self.length = length\n",
    "        self.width = width\n",
    "\n",
    "    def area(self):\n",
    "        return self.length * self.width\n",
    "\n",
    "c = Circle(5)\n",
    "r = Rectangle(4, 6)\n",
    "print(c.area())\n",
    "print(r.area())\n"
   ]
  },
  {
   "cell_type": "code",
   "execution_count": 3,
   "id": "8c9dd831-f962-48f1-b9cb-ac54e174f6fa",
   "metadata": {},
   "outputs": [
    {
     "name": "stdout",
     "output_type": "stream",
     "text": [
      "Electric Tesla 100 kWh\n"
     ]
    }
   ],
   "source": [
    "\"\"\"3. Multi-level Inheritance: Vehicle → Car → ElectricCar\n",
    "\"\"\"\n",
    "class Vehicle:\n",
    "    def __init__(self, type):\n",
    "        self.type = type\n",
    "\n",
    "class Car(Vehicle):\n",
    "    def __init__(self, type, brand):\n",
    "        super().__init__(type)\n",
    "        self.brand = brand\n",
    "\n",
    "class ElectricCar(Car):\n",
    "    def __init__(self, type, brand, battery):\n",
    "        super().__init__(type, brand)\n",
    "        self.battery = battery\n",
    "\n",
    "e = ElectricCar(\"Electric\", \"Tesla\", \"100 kWh\")\n",
    "print(e.type, e.brand, e.battery)\n"
   ]
  },
  {
   "cell_type": "code",
   "execution_count": 4,
   "id": "38dffba4-06cc-4fcf-9f86-7a15f1a03d3a",
   "metadata": {},
   "outputs": [
    {
     "name": "stdout",
     "output_type": "stream",
     "text": [
      "Sparrow can fly high!\n",
      "Penguins cannot fly!\n"
     ]
    }
   ],
   "source": [
    "\"\"\"4. Polymorphism: Bird → Sparrow, Penguin with fly()\n",
    "\"\"\"\n",
    "class Bird:\n",
    "    def fly(self):\n",
    "        print(\"Bird is flying\")\n",
    "\n",
    "class Sparrow(Bird):\n",
    "    def fly(self):\n",
    "        print(\"Sparrow can fly high!\")\n",
    "\n",
    "class Penguin(Bird):\n",
    "    def fly(self):\n",
    "        print(\"Penguins cannot fly!\")\n",
    "\n",
    "birds = [Sparrow(), Penguin()]\n",
    "for b in birds:\n",
    "    b.fly()"
   ]
  },
  {
   "cell_type": "code",
   "execution_count": 5,
   "id": "bee80315-e3be-4812-9af3-81b734627e4e",
   "metadata": {},
   "outputs": [
    {
     "name": "stdout",
     "output_type": "stream",
     "text": [
      "1200\n"
     ]
    }
   ],
   "source": [
    "\"\"\"5. Encapsulation with BankAccount\n",
    "\"\"\"\n",
    "class BankAccount:\n",
    "    def __init__(self, balance):\n",
    "        self.__balance = balance\n",
    "\n",
    "    def deposit(self, amount):\n",
    "        self.__balance += amount\n",
    "\n",
    "    def withdraw(self, amount):\n",
    "        if amount <= self.__balance:\n",
    "            self.__balance -= amount\n",
    "        else:\n",
    "            print(\"Insufficient balance!\")\n",
    "\n",
    "    def check_balance(self):\n",
    "        return self.__balance\n",
    "\n",
    "acc = BankAccount(1000)\n",
    "acc.deposit(500)\n",
    "acc.withdraw(300)\n",
    "print(acc.check_balance())\n"
   ]
  },
  {
   "cell_type": "code",
   "execution_count": 6,
   "id": "5ae41148-e6d2-4f68-9dae-6458a43c71c5",
   "metadata": {},
   "outputs": [
    {
     "name": "stdout",
     "output_type": "stream",
     "text": [
      "Strumming guitar\n",
      "Playing piano\n"
     ]
    }
   ],
   "source": [
    "\"\"\"6. Runtime Polymorphism: Instrument → Guitar, Piano\n",
    "\"\"\"\n",
    "class Instrument:\n",
    "    def play(self):\n",
    "        print(\"Playing instrument\")\n",
    "\n",
    "class Guitar(Instrument):\n",
    "    def play(self):\n",
    "        print(\"Strumming guitar\")\n",
    "\n",
    "class Piano(Instrument):\n",
    "    def play(self):\n",
    "        print(\"Playing piano\")\n",
    "\n",
    "for i in [Guitar(), Piano()]:\n",
    "    i.play()"
   ]
  },
  {
   "cell_type": "code",
   "execution_count": 8,
   "id": "63582c79-04c7-4d9c-8bf8-eebdf5a173d7",
   "metadata": {},
   "outputs": [
    {
     "name": "stdout",
     "output_type": "stream",
     "text": [
      "8\n",
      "2\n"
     ]
    }
   ],
   "source": [
    "\"\"\"7. MathOperations with class and static methods\"\"\"\n",
    "class MathOperations:\n",
    "    @classmethod\n",
    "    def add_numbers(cls, a, b):\n",
    "        return a + b\n",
    "\n",
    "    @staticmethod\n",
    "    def subtract_numbers(a, b):\n",
    "        return a - b\n",
    "\n",
    "print(MathOperations.add_numbers(5, 3))\n",
    "print(MathOperations.subtract_numbers(5, 3))"
   ]
  },
  {
   "cell_type": "code",
   "execution_count": 10,
   "id": "b9ef2730-54f5-49c3-90bc-05b3706c284a",
   "metadata": {},
   "outputs": [
    {
     "name": "stdout",
     "output_type": "stream",
     "text": [
      "2\n"
     ]
    }
   ],
   "source": [
    "\"\"\"8. Count number of persons using class method\n",
    "\"\"\"\n",
    "class Person:\n",
    "    count = 0\n",
    "\n",
    "    def __init__(self):\n",
    "        Person.count += 1\n",
    "\n",
    "    @classmethod\n",
    "    def total_persons(cls):\n",
    "        return cls.count\n",
    "\n",
    "p1 = Person()\n",
    "p2 = Person()\n",
    "print(Person.total_persons())"
   ]
  },
  {
   "cell_type": "code",
   "execution_count": 11,
   "id": "b2739729-a923-486b-b0ab-a231395a1432",
   "metadata": {},
   "outputs": [
    {
     "name": "stdout",
     "output_type": "stream",
     "text": [
      "3/4\n"
     ]
    }
   ],
   "source": [
    "\"\"\"9. Class Fraction, override __str__\n",
    "\"\"\"\n",
    "class Fraction:\n",
    "    def __init__(self, numerator, denominator):\n",
    "        self.numerator = numerator\n",
    "        self.denominator = denominator\n",
    "\n",
    "    def __str__(self):\n",
    "        return f\"{self.numerator}/{self.denominator}\"\n",
    "\n",
    "f = Fraction(3, 4)\n",
    "print(f)"
   ]
  },
  {
   "cell_type": "code",
   "execution_count": 12,
   "id": "b05e9cf9-10af-449c-ba3e-7397d668eff3",
   "metadata": {},
   "outputs": [
    {
     "name": "stdout",
     "output_type": "stream",
     "text": [
      "85.0\n"
     ]
    }
   ],
   "source": [
    "\"\"\"12. Class Student with grades and average method\n",
    "\"\"\"\n",
    "class Student:\n",
    "    def __init__(self, name, grades):\n",
    "        self.name = name\n",
    "        self.grades = grades\n",
    "\n",
    "    def average_grade(self):\n",
    "        return sum(self.grades) / len(self.grades)\n",
    "\n",
    "s = Student(\"Rahul\", [80, 90, 85])\n",
    "print(s.average_grade())"
   ]
  },
  {
   "cell_type": "code",
   "execution_count": 13,
   "id": "f062ce76-9dd4-40d5-aba8-0502f020bb19",
   "metadata": {},
   "outputs": [
    {
     "name": "stdout",
     "output_type": "stream",
     "text": [
      "15\n"
     ]
    }
   ],
   "source": [
    "\"\"\"13. Rectangle class with set_dimensions() and area()\n",
    "\"\"\"\n",
    "class Rectangle:\n",
    "    def set_dimensions(self, length, width):\n",
    "        self.length = length\n",
    "        self.width = width\n",
    "\n",
    "    def area(self):\n",
    "        return self.length * self.width\n",
    "\n",
    "r = Rectangle()\n",
    "r.set_dimensions(5, 3)\n",
    "print(r.area())"
   ]
  },
  {
   "cell_type": "code",
   "execution_count": 14,
   "id": "33266c5e-8bba-4ab5-b25a-296d5f073781",
   "metadata": {},
   "outputs": [
    {
     "name": "stdout",
     "output_type": "stream",
     "text": [
      "3000\n"
     ]
    }
   ],
   "source": [
    "\"\"\"14. Employee and derived class Manager\n",
    "\"\"\"\n",
    "class Employee:\n",
    "    def calculate_salary(self, hours, rate):\n",
    "        return hours * rate\n",
    "\n",
    "class Manager(Employee):\n",
    "    def calculate_salary(self, hours, rate, bonus):\n",
    "        return super().calculate_salary(hours, rate) + bonus\n",
    "\n",
    "m = Manager()\n",
    "print(m.calculate_salary(40, 50, 1000))"
   ]
  },
  {
   "cell_type": "code",
   "execution_count": 15,
   "id": "742b2848-fc04-4119-bdaf-8548311b5a97",
   "metadata": {},
   "outputs": [
    {
     "name": "stdout",
     "output_type": "stream",
     "text": [
      "1500\n"
     ]
    }
   ],
   "source": [
    "\"\"\"15. Class Product with total_price()\n",
    "\"\"\"\n",
    "class Product:\n",
    "    def __init__(self, name, price, quantity):\n",
    "        self.name = name\n",
    "        self.price = price\n",
    "        self.quantity = quantity\n",
    "\n",
    "    def total_price(self):\n",
    "        return self.price * self.quantity\n",
    "\n",
    "p = Product(\"Phone\", 500, 3)\n",
    "print(p.total_price())"
   ]
  },
  {
   "cell_type": "code",
   "execution_count": 16,
   "id": "8fec465e-645f-41f5-bf4c-1ea29860200a",
   "metadata": {},
   "outputs": [
    {
     "name": "stdout",
     "output_type": "stream",
     "text": [
      "Moo!\n",
      "Baa!\n"
     ]
    }
   ],
   "source": [
    "\"\"\"16. Abstract class Animal with sound()\n",
    "\"\"\"\n",
    "from abc import ABC, abstractmethod\n",
    "\n",
    "class Animal(ABC):\n",
    "    @abstractmethod\n",
    "    def sound(self):\n",
    "        pass\n",
    "\n",
    "class Cow(Animal):\n",
    "    def sound(self):\n",
    "        print(\"Moo!\")\n",
    "\n",
    "class Sheep(Animal):\n",
    "    def sound(self):\n",
    "        print(\"Baa!\")\n",
    "\n",
    "c = Cow()\n",
    "s = Sheep()\n",
    "c.sound()\n",
    "s.sound()"
   ]
  },
  {
   "cell_type": "code",
   "execution_count": 17,
   "id": "d3ae5ebc-a7b7-433f-9118-94d15ed23259",
   "metadata": {},
   "outputs": [
    {
     "name": "stdout",
     "output_type": "stream",
     "text": [
      "Atomic Habits by James Clear, published in 2018\n"
     ]
    }
   ],
   "source": [
    "\"\"\"17. Class Book with get_book_info()\n",
    "\"\"\"\n",
    "class Book:\n",
    "    def __init__(self, title, author, year_published):\n",
    "        self.title = title\n",
    "        self.author = author\n",
    "        self.year_published = year_published\n",
    "\n",
    "    def get_book_info(self):\n",
    "        return f\"{self.title} by {self.author}, published in {self.year_published}\"\n",
    "\n",
    "b = Book(\"Atomic Habits\", \"James Clear\", 2018)\n",
    "print(b.get_book_info())\n"
   ]
  },
  {
   "cell_type": "code",
   "execution_count": 18,
   "id": "9d9da963-b4dd-4546-932f-82bd11aa0335",
   "metadata": {},
   "outputs": [
    {
     "name": "stdout",
     "output_type": "stream",
     "text": [
      "Beverly Hills 1000000 12\n"
     ]
    }
   ],
   "source": [
    "\"\"\"18. Class House and derived class Mansion\n",
    "\"\"\"\n",
    "class House:\n",
    "    def __init__(self, address, price):\n",
    "        self.address = address\n",
    "        self.price = price\n",
    "\n",
    "class Mansion(House):\n",
    "    def __init__(self, address, price, number_of_rooms):\n",
    "        super().__init__(address, price)\n",
    "        self.number_of_rooms = number_of_rooms\n",
    "\n",
    "m = Mansion(\"Beverly Hills\", 1000000, 12)\n",
    "print(m.address, m.price, m.number_of_rooms)"
   ]
  },
  {
   "cell_type": "code",
   "execution_count": null,
   "id": "294e7217-e3a9-4b46-9f1a-3ab946557b12",
   "metadata": {},
   "outputs": [],
   "source": []
  },
  {
   "cell_type": "code",
   "execution_count": null,
   "id": "4b7cc1b4-9fa0-4d30-9876-e428f7e6ffd5",
   "metadata": {},
   "outputs": [],
   "source": []
  },
  {
   "cell_type": "code",
   "execution_count": null,
   "id": "9c720c3a-3cd4-4da3-8e83-def547a41907",
   "metadata": {},
   "outputs": [],
   "source": []
  },
  {
   "cell_type": "code",
   "execution_count": null,
   "id": "ede36da9-3c70-4bf7-acd8-3f3d39a7a4dc",
   "metadata": {},
   "outputs": [],
   "source": []
  },
  {
   "cell_type": "code",
   "execution_count": null,
   "id": "41030d7b-2d0a-40e3-a68b-0a641045d5ff",
   "metadata": {},
   "outputs": [],
   "source": []
  },
  {
   "cell_type": "code",
   "execution_count": null,
   "id": "a9930658-5075-4a92-ba82-8a5e2326995f",
   "metadata": {},
   "outputs": [],
   "source": []
  },
  {
   "cell_type": "code",
   "execution_count": null,
   "id": "23ee71ea-ed2d-43d8-8be2-3660750bafc1",
   "metadata": {},
   "outputs": [],
   "source": []
  },
  {
   "cell_type": "code",
   "execution_count": null,
   "id": "ade8c152-e93a-4ff8-8020-9c475399a36a",
   "metadata": {},
   "outputs": [],
   "source": []
  },
  {
   "cell_type": "code",
   "execution_count": null,
   "id": "948e8e3f-2976-4320-92a5-0c7523b9021a",
   "metadata": {},
   "outputs": [],
   "source": []
  },
  {
   "cell_type": "code",
   "execution_count": null,
   "id": "115976ed-2e56-4e15-b500-406a3a007411",
   "metadata": {},
   "outputs": [],
   "source": []
  }
 ],
 "metadata": {
  "kernelspec": {
   "display_name": "Python 3 (ipykernel)",
   "language": "python",
   "name": "python3"
  },
  "language_info": {
   "codemirror_mode": {
    "name": "ipython",
    "version": 3
   },
   "file_extension": ".py",
   "mimetype": "text/x-python",
   "name": "python",
   "nbconvert_exporter": "python",
   "pygments_lexer": "ipython3",
   "version": "3.13.2"
  }
 },
 "nbformat": 4,
 "nbformat_minor": 5
}
